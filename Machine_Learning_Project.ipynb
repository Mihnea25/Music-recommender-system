{
  "nbformat": 4,
  "nbformat_minor": 0,
  "metadata": {
    "colab": {
      "provenance": []
    },
    "kernelspec": {
      "name": "python3",
      "display_name": "Python 3"
    },
    "language_info": {
      "name": "python"
    }
  },
  "cells": [
    {
      "cell_type": "code",
      "execution_count": null,
      "metadata": {
        "id": "S_Y3mNircZ_U"
      },
      "outputs": [],
      "source": [
        "#importing libraries\n",
        "from sklearn.preprocessing import MinMaxScaler\n",
        "from sklearn.preprocessing import StandardScaler\n",
        "from sklearn.preprocessing import Binarizer\n",
        "from sklearn.preprocessing import OneHotEncoder\n",
        "from sklearn.preprocessing import LabelEncoder\n",
        "from sklearn.cluster import KMeans\n",
        "from pandas.plotting import hist_frame\n",
        "from numpy import set_printoptions\n",
        "from pandas import read_csv\n",
        "from pandas import set_option\n",
        "from pandas.plotting import scatter_matrix\n",
        "import scipy\n",
        "from sklearn.feature_extraction.text import CountVectorizer\n",
        "import ast\n",
        "from sklearn.metrics.pairwise import cosine_similarity\n",
        "import matplotlib.pyplot as plt\n",
        "import numpy as np\n",
        "import pandas as ps\n",
        "import seaborn as sbn\n",
        "import csv\n"
      ]
    },
    {
      "cell_type": "code",
      "source": [
        "\n",
        "\n",
        "#loading csv with numpy\n",
        "filename = 'data.csv'\n",
        "raw_data = open(filename,'rt')\n",
        "reader = csv.reader(raw_data,delimiter = ',',quoting = csv.QUOTE_NONE)\n",
        "x = list(reader)\n",
        "dataset = np.array(x,dtype = object)\n",
        "print(dataset.shape)\n"
      ],
      "metadata": {
        "id": "Cxf8wMYBcwXK",
        "colab": {
          "base_uri": "https://localhost:8080/"
        },
        "outputId": "db98ed77-2c98-4b0e-ed0c-3f26d5da9a89"
      },
      "execution_count": null,
      "outputs": [
        {
          "output_type": "stream",
          "name": "stdout",
          "text": [
            "(3732,)\n"
          ]
        }
      ]
    },
    {
      "cell_type": "code",
      "source": [
        "for i in range(50):\n",
        "\n",
        "    print(dataset[i])"
      ],
      "metadata": {
        "id": "WsqkTc6AcbFJ"
      },
      "execution_count": null,
      "outputs": []
    },
    {
      "cell_type": "code",
      "source": [
        "#loading csv with pandas\n",
        "filename = 'data.csv'\n",
        "data = read_csv(filename,on_bad_lines = 'skip')\n",
        "\"\"\"shape = data.shape\n",
        "print(shape)\n",
        "types = data.dtypes\n",
        "print(types)\"\"\""
      ],
      "metadata": {
        "id": "m0dgha7Polga",
        "colab": {
          "base_uri": "https://localhost:8080/",
          "height": 35
        },
        "outputId": "2f875c37-ca81-4947-ab72-d636cbe8aa90"
      },
      "execution_count": null,
      "outputs": [
        {
          "output_type": "execute_result",
          "data": {
            "text/plain": [
              "'shape = data.shape\\nprint(shape)\\ntypes = data.dtypes\\nprint(types)'"
            ],
            "application/vnd.google.colaboratory.intrinsic+json": {
              "type": "string"
            }
          },
          "metadata": {},
          "execution_count": 6
        }
      ]
    },
    {
      "cell_type": "code",
      "source": [
        "set_option('display.width',100)\n",
        "set_option('precision',3)\n",
        "description = data.describe()\n",
        "print(description)"
      ],
      "metadata": {
        "id": "kNEcJCjgccFJ"
      },
      "execution_count": null,
      "outputs": []
    },
    {
      "cell_type": "code",
      "source": [
        "set_option('display.width',100)\n",
        "set_option('precision',3)\n",
        "correlations = data.corr(method='pearson')\n",
        "print(correlations)"
      ],
      "metadata": {
        "id": "DKk195FouCXJ"
      },
      "execution_count": null,
      "outputs": []
    },
    {
      "cell_type": "code",
      "source": [
        "skew = data.skew()\n",
        "print(skew)"
      ],
      "metadata": {
        "id": "Q3IoBuLrHc7b"
      },
      "execution_count": null,
      "outputs": []
    },
    {
      "cell_type": "code",
      "source": [
        "\n",
        "hist_rep = data.hist(figsize = (14,16))  \n"
      ],
      "metadata": {
        "id": "pkzzQw_HHd2z"
      },
      "execution_count": null,
      "outputs": []
    },
    {
      "cell_type": "code",
      "source": [
        "data.plot(kind = 'density',subplots = True,layout = (4,4),figsize = (12,12),sharex = False)\n",
        "plt.show()"
      ],
      "metadata": {
        "id": "beeTxjZ2Hd5G"
      },
      "execution_count": null,
      "outputs": []
    },
    {
      "cell_type": "code",
      "source": [
        "data.plot(kind = 'box',subplots = True,layout = (4,4),figsize = (10,10),sharex = False,sharey = False)"
      ],
      "metadata": {
        "id": "crNRQ51ZHd7K"
      },
      "execution_count": null,
      "outputs": []
    },
    {
      "cell_type": "code",
      "source": [
        "names = data.head(0)\n",
        "correlations = data.corr()\n",
        "fig = plt.figure()\n",
        "ax = fig.add_subplot(111)\n",
        "cax = ax.matshow(correlations,vmin = -1,vmax = 1)\n",
        "fig.colorbar(cax)\n",
        "\n",
        "ticks = np.arange\n",
        "ax.set_xticks(ticks)\n",
        "ax.set_yticks(ticks)\n",
        "ax.set_xticklabels(names)\n",
        "ax.set_yticklabels(names)\n",
        "plt.show()\n"
      ],
      "metadata": {
        "id": "4XHCRkVNHdZr"
      },
      "execution_count": null,
      "outputs": []
    },
    {
      "cell_type": "code",
      "source": [
        "\n",
        "scatter_matrix(data,figsize = (14,14))\n",
        "plt.show()"
      ],
      "metadata": {
        "id": "fnjeSVoGHdbo"
      },
      "execution_count": null,
      "outputs": []
    },
    {
      "cell_type": "code",
      "source": [
        " #data rescaling\n",
        " array = data.values\n",
        "X = array[:,2:15]\n",
        "scaler = MinMaxScaler(feature_range = (0,1))\n",
        "rescaledX = scaler.fit_transform(X)\n",
        "set_printoptions(precision = 5)\n",
        "print(rescaledX[0:20,:])"
      ],
      "metadata": {
        "id": "70SYvFnJHDo8"
      },
      "execution_count": null,
      "outputs": []
    },
    {
      "cell_type": "code",
      "source": [
        "#data standardization\n",
        "array = data.values\n",
        "X = array[:,2:15]\n",
        "scaler = StandardScaler().fit(X)\n",
        "rescaledX = scaler.transform(X)\n",
        "set_printoptions(precision = 3)\n",
        "print(rescaledX[0:20,:])"
      ],
      "metadata": {
        "id": "WVybXApmHDrc"
      },
      "execution_count": null,
      "outputs": []
    },
    {
      "cell_type": "code",
      "source": [
        "#data binarization\n",
        "array = data.values\n",
        "X = array[:,2:15]\n",
        "binarizer = Binarizer(threshold = 0.0).fit(X)\n",
        "binaryX = binarizer.transform(X)\n",
        "set_printoptions(precision = 3)\n",
        "print(binaryX[0:20,:])"
      ],
      "metadata": {
        "id": "3WyOPylSHDtt"
      },
      "execution_count": null,
      "outputs": []
    },
    {
      "cell_type": "code",
      "source": [
        "description = df.describe()\n",
        "print(description)"
      ],
      "metadata": {
        "id": "gsOABx8E3ODE"
      },
      "execution_count": null,
      "outputs": []
    },
    {
      "cell_type": "code",
      "source": [
        "data.isnull().sum()"
      ],
      "metadata": {
        "id": "0LqxAydDfoxo"
      },
      "execution_count": null,
      "outputs": []
    },
    {
      "cell_type": "code",
      "source": [
        "data=data.drop_duplicates('song_title',keep= 'first',ignore_index = True)\n",
        "print(data)"
      ],
      "metadata": {
        "id": "ea0XDH310l7i"
      },
      "execution_count": null,
      "outputs": []
    },
    {
      "cell_type": "code",
      "source": [
        "data.duplicated('song_title').sum()"
      ],
      "metadata": {
        "id": "z5aWOE0D2JCh"
      },
      "execution_count": null,
      "outputs": []
    },
    {
      "cell_type": "code",
      "source": [
        "\"\"\"cv = CountVectorizer()\n",
        "ansm = cv.fit_transform(data['artist'])\n",
        "cosine_sim = cosine_similarity(ansm,ansm)\n",
        "print(cosine_sim)"
      ],
      "metadata": {
        "id": "bk27CYZXg7e3"
      },
      "execution_count": null,
      "outputs": []
    },
    {
      "cell_type": "code",
      "source": [
        "df = ps.DataFrame(data)\n",
        "title_array = df.loc[:,'song_title'].values\n",
        "print(title_array)\n",
        "artist_array = df.loc[:,'artist'].values\n",
        "#print(artist_array)"
      ],
      "metadata": {
        "colab": {
          "base_uri": "https://localhost:8080/"
        },
        "id": "fy3WIi1zIXt1",
        "outputId": "7538f91a-1c68-4254-b3d8-28b27c66039b"
      },
      "execution_count": null,
      "outputs": [
        {
          "output_type": "stream",
          "name": "stdout",
          "text": [
            "['Mask Off' 'Redbone' 'Xanny Family' ...\n",
            " 'Habit - Dack Janiels & Wenzday Remix' 'First Contact'\n",
            " 'I Wanna Get Better']\n"
          ]
        }
      ]
    },
    {
      "cell_type": "code",
      "source": [
        "def same_artist_songs(title,count):\n",
        "    k=0\n",
        "    rec_array = []\n",
        "    req_nr = 1\n",
        "  \n",
        "    #I obtain the index of the song\n",
        "    idx = data[data[\"song_title\"] == title].index.tolist()[0]\n",
        "    #I obtain the artist of the song based on the index\n",
        "    artistf = data.iloc[idx].artist\n",
        "    #I loop through the artists array\n",
        "    for x in range (0,len(artist_array)):\n",
        "        #I check if the artist in the array is the same as the artist of the song given as parameter and if the count isn't reached\n",
        "        if artist_array[x] == artistf and k<count:\n",
        "            #if the above condition is satisfied the song is added to the array with songs\n",
        "            rec_array.append(title_array[x])\n",
        "            k +=1\n",
        "         #I check if the last value of the artist array was reached while the value of k didn't reach the value of count\n",
        "        if x==len(artist_array)-1 and k<count:\n",
        "            print(f'There are only {k} songs by {artistf}')\n",
        "            req_nr = 0\n",
        "            break\n",
        "        \n",
        "\n",
        "    if req_nr == 1:\n",
        "        if count == 1:\n",
        "          print(f'Here is {count} song similar to {title} by {artistf}:')\n",
        "        elif count > 1:\n",
        "          print(f'Here are {count} songs similar to {title} by {artistf}:')  \n",
        "        else:\n",
        "          print('Error')\n",
        "    \n",
        "    #I print all the values of the array with songs of the same artist\n",
        "    for j in range(0,len(rec_array)):\n",
        "        print(f'{j+1}.{rec_array[j]}')"
      ],
      "metadata": {
        "id": "hkwfSl3YpU_d"
      },
      "execution_count": null,
      "outputs": []
    },
    {
      "cell_type": "code",
      "source": [
        "#@title Recommendation of songs with the same artist\n",
        "\n",
        "Title =\"Mask Off\" #@param {type:\"string\"}\n",
        "count = 7 #@param {type:\"raw\"}\n",
        "same_artist_songs(Title,count)\n"
      ],
      "metadata": {
        "id": "MrMKm4otvt-5",
        "colab": {
          "base_uri": "https://localhost:8080/"
        },
        "outputId": "85d49f8e-ce2b-4561-a45c-7982bdd15a5a"
      },
      "execution_count": null,
      "outputs": [
        {
          "output_type": "stream",
          "name": "stdout",
          "text": [
            "Here are 7 songs similar to Mask Off by Future:\n",
            "1.Mask Off\n",
            "2.Xanny Family\n",
            "3.Blood On the Money\n",
            "4.Move That Dope\n",
            "5.Blow a Bag\n",
            "6.Lay Up\n",
            "7.Selfish\n"
          ]
        }
      ]
    },
    {
      "cell_type": "code",
      "source": [
        "print(data)"
      ],
      "metadata": {
        "id": "J7nOP4pGpUMs"
      },
      "execution_count": null,
      "outputs": []
    },
    {
      "cell_type": "code",
      "source": [
        "def similar_songs_rec(data,song,artist,count):\n",
        "  try:\n",
        "      #storing the name of the song and the artist\n",
        "      artist_and_song_data = data[(data['song_title']==song) &(data['artist']==artist)]\n",
        "      #creating a copy of the dataset\n",
        "      similar_songs = data.copy()\n",
        "      #storing in a table all the rows for the specified columns\n",
        "      sound_properties = similar_songs.loc[:,['acousticness','danceability','duration_ms','energy','instrumentalness','key','liveness','loudness','mode','speechiness','tempo','time_signature','valence']]\n",
        "\n",
        "      similar_songs['Similarity with song'] = cosine_similarity(sound_properties,sound_properties.to_numpy()[ artist_and_song_data.index[0],None]).squeeze()\n",
        "      #renaming the name column for the similar_songs table \n",
        "      similar_songs.rename(columns={'song_title':f'Songs similar to {song}'},inplace = True)\n",
        "      #sorting the values of the similar_songs table in descending order\n",
        "      similar_songs = similar_songs.sort_values(by = 'Similarity with song',ascending = False)\n",
        "   \n",
        "      similar_songs = similar_songs[['artist',f'Songs similar to {song}']]\n",
        "      \n",
        "      \n",
        "      \n",
        "      similar_songs.reset_index(drop = True,inplace = True)\n",
        "      #print(similar_songs)\n",
        "      return similar_songs.iloc[1:count+1]\n",
        "      \n",
        "  except:\n",
        "      print(\"This song is not included in the dataset\")\n"
      ],
      "metadata": {
        "id": "HHOUhj7f2cSg"
      },
      "execution_count": null,
      "outputs": []
    },
    {
      "cell_type": "code",
      "source": [
        "#@title Recommendation of songs with similar attributes\n",
        "\n",
        "  Song = \"Monster\" #@param {type:\"string\"}\n",
        "Artist = \"Kanye West\" #@param {type:\"string\"}\n",
        "Number_of_songs = 12 #@param {type:\"raw\"}\n",
        "similar_songs_rec(data,Song,Artist,Number_of_songs)"
      ],
      "metadata": {
        "id": "iWgM_61LIpjB"
      },
      "execution_count": null,
      "outputs": []
    },
    {
      "cell_type": "code",
      "source": [
        "#print(data)\n",
        "display(data)"
      ],
      "metadata": {
        "id": "rAV4wI_AKBMZ"
      },
      "execution_count": null,
      "outputs": []
    },
    {
      "cell_type": "code",
      "source": [
        "df = ps.DataFrame(data)\n",
        "droped_df=df.drop(['Unnamed: 0','song_title','artist','key','mode','tempo','time_signature','target','loudness','duration_ms'],axis = 1)\n"
      ],
      "metadata": {
        "id": "vlVH3On4LbFw"
      },
      "execution_count": null,
      "outputs": []
    },
    {
      "cell_type": "code",
      "source": [
        "display(droped_df)"
      ],
      "metadata": {
        "id": "HI5rUR2jPwia"
      },
      "execution_count": null,
      "outputs": []
    },
    {
      "cell_type": "code",
      "source": [
        "#binarization of acousticness\n",
        "array = droped_df.values\n",
        "acoustic_array= array[:,0:1]\n",
        "#print(x)\n",
        "binarizer = Binarizer(threshold= 0.5).fit(acoustic_array)\n",
        "binary_acoustic_array = binarizer.transform(acoustic_array)\n",
        "set_printoptions(precision = 3)\n",
        "print('Acousticness:')\n",
        "print(binary_acoustic_array[0:20,:])\n",
        "print(\"\\n\")\n",
        "\n",
        "#binarization of danceability\n",
        "array = droped_df.values\n",
        "dance_array= array[:,1:2]\n",
        "#print(x)\n",
        "binarizer = Binarizer(threshold= 0.5).fit(dance_array)\n",
        "binary_dance_array = binarizer.transform(dance_array)\n",
        "set_printoptions(precision = 3)\n",
        "print('Danceability:')\n",
        "print(binary_dance_array[0:20,:])\n",
        "print(\"\\n\")\n",
        "\n",
        "#binarization of energy\n",
        "array = droped_df.values\n",
        "energy_array= array[:,2:3]\n",
        "#print(x)\n",
        "binarizer = Binarizer(threshold= 0.5).fit(energy_array)\n",
        "binary_energy_array = binarizer.transform(energy_array)\n",
        "set_printoptions(precision = 3)\n",
        "print('Energy:')\n",
        "print(binary_energy_array[0:20,:])\n",
        "print(\"\\n\")\n",
        "\n",
        "#binarization of instrumentalness\n",
        "array = droped_df.values\n",
        "instrumental_array= array[:,3:4]\n",
        "#print(x)\n",
        "binarizer = Binarizer(threshold= 0.5).fit(instrumental_array)\n",
        "binary_instrumental_array = binarizer.transform(instrumental_array)\n",
        "set_printoptions(precision = 3)\n",
        "print('Instrumentalness:')\n",
        "print(binary_instrumental_array[0:20,:])\n",
        "print(\"\\n\")\n",
        "\n",
        "#binarization of liveness\n",
        "array = droped_df.values\n",
        "live_array = array[:,4:5]\n",
        "#print(live_array)\n",
        "binarizer = Binarizer(threshold = 0.8).fit(live_array)\n",
        "binary_live_array = binarizer.transform(live_array)\n",
        "print('Liveness:')\n",
        "print(binary_live_array[0:20])\n",
        "print(\"\\n\")\n",
        "\n",
        "#binarization of speechiness\n",
        "array = droped_df.values\n",
        "speech_array = array[:,5:6]\n",
        "#print(speech_array)\n",
        "binarizer = Binarizer(threshold = 0.66).fit(speech_array)\n",
        "binary_speech_array = binarizer.transform(speech_array)\n",
        "print('Speechiness:')\n",
        "print(binary_speech_array[0:20])\n",
        "print(\"\\n\")\n",
        "\n",
        "#binarization of valence\n",
        "array = droped_df.values\n",
        "valence_array = array[:,6:7]\n",
        "#print(valence_array)\n",
        "binarizer = Binarizer(threshold = 0.5).fit(valence_array)\n",
        "binary_valence_array = binarizer.transform(valence_array)\n",
        "print('Valence:')\n",
        "print(binary_valence_array[0:20])\n"
      ],
      "metadata": {
        "id": "-DVPtQ3SYfs2"
      },
      "execution_count": null,
      "outputs": []
    },
    {
      "cell_type": "code",
      "source": [
        "\n",
        "def recommend_by_keywords(keyword,count):\n",
        "  i=0\n",
        "  if keyword == \"danceable\":\n",
        "      for k in range(len(binary_dance_array)) :\n",
        "                #If an element of binary_dance_array is 1 the song and the artist of the dataset row corresponding to the array value are printed\n",
        "                #This action is repeated until i reaches the value of count\n",
        "                if binary_dance_array[k,0:1]==1:\n",
        "                  print(f'{data.loc[k,\"song_title\"]} by {data.loc[k,\"artist\"]}')\n",
        "                  i +=1 \n",
        "                  if i == count:\n",
        "                      break\n",
        "\n",
        "  if keyword == \"energic\":\n",
        "      for k in range(len(binary_energy_array)) :\n",
        "                if binary_energy_array[k,0:1]==1:\n",
        "                  print(f'{data.loc[k,\"song_title\"]} by {data.loc[k,\"artist\"]}')\n",
        "                  i +=1 \n",
        "                  if i == count:\n",
        "                      break\n",
        "  \n",
        "  if keyword == \"live\":\n",
        "      for k in range(len(binary_live_array)) :\n",
        "                if binary_live_array[k,0:1]==1:\n",
        "                  print(f'{data.loc[k,\"song_title\"]} by {data.loc[k,\"artist\"]}')\n",
        "                  i +=1 \n",
        "                  if i == count:\n",
        "                      break\n",
        "\n",
        "  if keyword == \"acoustic\":\n",
        "      for k in range(len(binary_acoustic_array)) :\n",
        "                if binary_acoustic_array[k,0:1]==1:\n",
        "                  print(f'{data.loc[k,\"song_title\"]} by {data.loc[k,\"artist\"]}')\n",
        "                  i +=1 \n",
        "                  if i == count:\n",
        "                      break\n",
        "\n",
        "  if keyword == \"instrumental\":\n",
        "      for k in range(len(binary_instrumental_array)) :\n",
        "                if binary_instrumental_array[k,0:1]==1:\n",
        "                  print(f'{data.loc[k,\"song_title\"]} by {data.loc[k,\"artist\"]}')\n",
        "                  i +=1 \n",
        "                  if i == count:\n",
        "                      break\n",
        "\n",
        "  if keyword == \"positive\":\n",
        "      for k in range(len(binary_valence_array)) :\n",
        "                if binary_valence_array[k,0:1]==1:\n",
        "                  print(f'{data.loc[k,\"song_title\"]} by {data.loc[k,\"artist\"]}')\n",
        "                  i +=1 \n",
        "                  if i == count:\n",
        "                      break\n",
        "  \n",
        "  if keyword == \"negative\":\n",
        "      for k in range(len(binary_valence_array)) :\n",
        "                if binary_valence_array[k,0:1]==0:\n",
        "                  print(f'{data.loc[k,\"song_title\"]} by {data.loc[k,\"artist\"]}')\n",
        "                  i +=1 \n",
        "                  if i == count:\n",
        "                      break\n",
        "\n",
        "    \n",
        "      "
      ],
      "metadata": {
        "id": "xhgn_voTjJAe"
      },
      "execution_count": null,
      "outputs": []
    },
    {
      "cell_type": "code",
      "source": [
        "#@title Recommendation of songs based on keywords\n",
        "Keyword = 'instrumental' #@param [\"danceable\",\"instrumental\",\"energic\",\"live\",\"acoustic\",\"positive\",\"negative\"]\n",
        "Number_of_songs = 8 #@param {type:\"raw\"}\n",
        "recommend_by_keywords(Keyword,Number_of_songs)"
      ],
      "metadata": {
        "id": "-HVilhDxqUp3"
      },
      "execution_count": null,
      "outputs": []
    },
    {
      "cell_type": "code",
      "source": [
        "print(binary_dance_array[:20])\n",
        "print(len(binary_dance_array))"
      ],
      "metadata": {
        "id": "_oRm4fvFgtff"
      },
      "execution_count": null,
      "outputs": []
    },
    {
      "cell_type": "code",
      "source": [
        "df = ps.DataFrame(data)\n",
        "x=df.loc[:,'artist'].values\n",
        "print(x)\n"
      ],
      "metadata": {
        "id": "3sGAGwZuHDCk"
      },
      "execution_count": null,
      "outputs": []
    }
  ]
}